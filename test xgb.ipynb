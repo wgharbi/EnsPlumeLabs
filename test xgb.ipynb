{
 "cells": [
  {
   "cell_type": "code",
   "execution_count": 1,
   "metadata": {
    "collapsed": true
   },
   "outputs": [],
   "source": [
    "import pandas as pd\n",
    "import numpy as np \n",
    "import matplotlib.pyplot as plt\n",
    "df = pd.read_csv(\"train.csv\")\n",
    "test = pd.read_csv(\"test.csv\")"
   ]
  },
  {
   "cell_type": "code",
   "execution_count": 3,
   "metadata": {
    "collapsed": true
   },
   "outputs": [],
   "source": [
    "%matplotlib inline\n",
    "labels = pd.read_csv(\"validation.csv\", delimiter = \";\")"
   ]
  },
  {
   "cell_type": "code",
   "execution_count": 4,
   "metadata": {
    "collapsed": false
   },
   "outputs": [],
   "source": [
    "data_train = df.iloc[:,1:]\n",
    "data_test= test.iloc[:,1:]\n",
    "data_labels = labels\n",
    "\n",
    "from sklearn.cross_validation import train_test_split\n",
    "X_train, X_test, y_train, y_test = train_test_split(data_train, data_labels, test_size=0.2, random_state=42)"
   ]
  },
  {
   "cell_type": "code",
   "execution_count": 6,
   "metadata": {
    "collapsed": true
   },
   "outputs": [],
   "source": [
    "\n",
    "PM2 = y_train.filter(regex='PM2')\n",
    "PM10 = y_train.filter(regex='PM10')\n",
    "O3 = y_train.filter(regex= \"O3\")\n",
    "NO2= y_train.filter(regex= \"NO2\")\n",
    "PM2_test = y_test.filter(regex='PM2')\n",
    "PM10_test  = y_test.filter(regex='PM10')\n",
    "O3_test  = y_test.filter(regex= \"O3\")\n",
    "NO2_test = y_test.filter(regex= \"NO2\")"
   ]
  },
  {
   "cell_type": "code",
   "execution_count": null,
   "metadata": {
    "collapsed": false
   },
   "outputs": [],
   "source": [
    "from sklearn.metrics import r2_score\n",
    "from sklearn.metrics import mean_squared_error\n",
    "import xgboost as xgb \n",
    "from time import time\n",
    "n,m = y_test.shape\n",
    "\n",
    "y_pred = np.zeros((n,m))\n",
    "i=0\n",
    "s = [PM2, PM10, O3,NO2]\n",
    "clfs = []\n",
    "\n",
    "params = {}\n",
    "params[\"objective\"] = \"reg:linear\"\n",
    "params[\"eta\"] = 0.01\n",
    "params[\"min_child_weight\"] = 5\n",
    "params[\"subsample\"] = 0.8\n",
    "params[\"scale_pos_weight\"] = 1.0\n",
    "params[\"silent\"] = 1\n",
    "params[\"max_depth\"] = 5\n",
    "\n",
    "plst = list(params.items())\n",
    "xgtest = xgb.DMatrix(X_test)\n",
    "\n",
    "num_rounds = 2000\n",
    "for target in s:\n",
    "    \n",
    "    l = len(target.columns)\n",
    "    col = target.columns[0]\n",
    "\n",
    "    print col\n",
    "    xgtrain = xgb.DMatrix(X_train, label=target[col])\n",
    "    \n",
    "    \n",
    "    start = time()\n",
    "    model = xgb.train(plst, xgtrain, num_rounds)  \n",
    "    end = time() - start\n",
    "    print \"Fitting the model took %d seconds\"%end\n",
    "\n",
    "    pred = model.predict(xgtest)\n",
    "    print \"MSE : \", mean_squared_error(y_test[col],pred)\n",
    "    print \"R2 : \",r2_score(y_test[col],pred)"
   ]
  },
  {
   "cell_type": "code",
   "execution_count": 11,
   "metadata": {
    "collapsed": false
   },
   "outputs": [
    {
     "name": "stdout",
     "output_type": "stream",
     "text": [
      "MSE :  8.43513213464\n",
      "R2 :  0.936010335225\n"
     ]
    }
   ],
   "source": [
    "\n"
   ]
  },
  {
   "cell_type": "code",
   "execution_count": null,
   "metadata": {
    "collapsed": true
   },
   "outputs": [],
   "source": []
  }
 ],
 "metadata": {
  "kernelspec": {
   "display_name": "Python 2",
   "language": "python",
   "name": "python2"
  },
  "language_info": {
   "codemirror_mode": {
    "name": "ipython",
    "version": 2
   },
   "file_extension": ".py",
   "mimetype": "text/x-python",
   "name": "python",
   "nbconvert_exporter": "python",
   "pygments_lexer": "ipython2",
   "version": "2.7.11"
  }
 },
 "nbformat": 4,
 "nbformat_minor": 0
}
