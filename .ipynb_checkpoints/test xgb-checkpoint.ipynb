{
 "cells": [
  {
   "cell_type": "code",
   "execution_count": 14,
   "metadata": {
    "collapsed": true
   },
   "outputs": [],
   "source": [
    "import pandas as pd\n",
    "import numpy as np \n",
    "import matplotlib.pyplot as plt\n",
    "df = pd.read_csv(\"train.csv\")\n",
    "test = pd.read_csv(\"test.csv\")"
   ]
  },
  {
   "cell_type": "code",
   "execution_count": 15,
   "metadata": {
    "collapsed": true
   },
   "outputs": [],
   "source": [
    "%matplotlib inline\n",
    "labels = pd.read_csv(\"validation.csv\", delimiter = \";\")"
   ]
  },
  {
   "cell_type": "code",
   "execution_count": 16,
   "metadata": {
    "collapsed": false
   },
   "outputs": [
    {
     "name": "stdout",
     "output_type": "stream",
     "text": [
      "(984, 3728)\n",
      "(984, 96)\n"
     ]
    }
   ],
   "source": [
    "data_train = df.iloc[:,1:]\n",
    "data_test= test.iloc[:,1:]\n",
    "data_labels = labels\n",
    "\n",
    "testdf= pd.read_csv(\"best_result_so_far.csv\", sep=\";\")\n",
    "print data_test.shape\n",
    "print testdf.shape\n",
    "\n",
    "labels_test=testdf.values\n"
   ]
  },
  {
   "cell_type": "code",
   "execution_count": 17,
   "metadata": {
    "collapsed": true
   },
   "outputs": [],
   "source": [
    "\n",
    "PM2 = data_labels.filter(regex='PM2')\n",
    "PM10 = data_labels.filter(regex='PM10')\n",
    "O3 = data_labels.filter(regex= \"O3\")\n",
    "NO2= data_labels.filter(regex= \"NO2\")\n",
    "\n",
    "n = data_test.shape[0]\n",
    "m = data_labels.shape[1]"
   ]
  },
  {
   "cell_type": "code",
   "execution_count": null,
   "metadata": {
    "collapsed": false
   },
   "outputs": [],
   "source": [
    "from sklearn.metrics import r2_score\n",
    "from sklearn.metrics import mean_squared_error\n",
    "import xgboost as xgb \n",
    "from time import time\n",
    "\n",
    "\n",
    "#y_pred = np.zeros((n,m))\n",
    "i=0\n",
    "s = [PM2, PM10, O3,NO2]\n",
    "clfs = []\n",
    "\n",
    "params = {}\n",
    "params[\"objective\"] = \"reg:linear\"\n",
    "params[\"eta\"] = 0.01\n",
    "params[\"min_child_weight\"] = 5\n",
    "params[\"subsample\"] = 0.8\n",
    "params[\"scale_pos_weight\"] = 1.0\n",
    "params[\"silent\"] = 1\n",
    "params[\"max_depth\"] = 5\n",
    "\n",
    "plst = list(params.items())\n",
    "xgtest = xgb.DMatrix(data_test)\n",
    "\n",
    "num_rounds = 2000\n",
    "for target in s:\n",
    "    \n",
    "    l = len(target.columns)\n",
    "    col = target.columns[0]\n",
    "\n",
    "    print col\n",
    "    xgtrain = xgb.DMatrix(data_train, label=target[col])\n",
    "    \n",
    "    \n",
    "    start = time()\n",
    "    model = xgb.train(plst, xgtrain, num_rounds)  \n",
    "    end = time() - start\n",
    "    print \"Fitting the model took %d seconds\"%end\n",
    "\n",
    "    pred = model.predict(xgtest)\n",
    "    labels_test[:, i] = pred[:]\n",
    "    i= i+24"
   ]
  },
  {
   "cell_type": "code",
   "execution_count": 11,
   "metadata": {
    "collapsed": false
   },
   "outputs": [
    {
     "name": "stdout",
     "output_type": "stream",
     "text": [
      "MSE :  8.43513213464\n",
      "R2 :  0.936010335225\n"
     ]
    }
   ],
   "source": [
    "from postprocessing import *\n",
    "y_filtered = multi_polutant_averaged_postprocessing(labels_test, method = \"Selection\", weights=None)\n",
    "y_pred_final = pd.DataFrame(y_filtered, columns = data_labels.columns)\n",
    "y_pred_final.to_csv(\"./result_filtered.csv\",index=False,sep=\";\")\n"
   ]
  },
  {
   "cell_type": "code",
   "execution_count": null,
   "metadata": {
    "collapsed": true
   },
   "outputs": [],
   "source": []
  }
 ],
 "metadata": {
  "kernelspec": {
   "display_name": "Python 2",
   "language": "python",
   "name": "python2"
  },
  "language_info": {
   "codemirror_mode": {
    "name": "ipython",
    "version": 2
   },
   "file_extension": ".py",
   "mimetype": "text/x-python",
   "name": "python",
   "nbconvert_exporter": "python",
   "pygments_lexer": "ipython2",
   "version": "2.7.11"
  }
 },
 "nbformat": 4,
 "nbformat_minor": 0
}
